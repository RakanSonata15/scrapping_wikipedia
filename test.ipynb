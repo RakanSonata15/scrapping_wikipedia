{
 "cells": [
  {
   "cell_type": "code",
   "execution_count": 1,
   "metadata": {},
   "outputs": [],
   "source": [
    "import pandas as pd"
   ]
  },
  {
   "cell_type": "code",
   "execution_count": 2,
   "metadata": {},
   "outputs": [
    {
     "name": "stdout",
     "output_type": "stream",
     "text": [
      "Judul artikel: BillboardandVibe's 50 Greatest Rappers of All Time\n",
      "Konten artikel ditemukan.\n",
      "Menambahkan ke section 'Introduction': \n",
      "Menambahkan ke section 'Introduction': \"The 50 Greatest Rappers of All Time\" is a musiceditorialand ranking of the finestrappersin history, published by the American magazinesBillboardandVibein February 2023. The ranking was created to celebrate the 50th anniversary ofhip hop music's inception and was compiled by the magazines' respectiveeditorial boards. To determine the rankings, the boards created a list of criteria based on a rapper's artistry, achievements, and cultural influence. It received criticism due to its exclusion of rappers who are not based inNorth America, as well as the omission ofdancehallandreggaetonartists.\n",
      "Menambahkan ke section 'Introduction': BillboardandVibepresented the first set of rappers on January 11, 2023, and ten more rappers were announced over the course of three weeks. The top rankings were unveiled on February 8, 2023, which crownedJay-Zthe greatest rapper of all time andNicki Minajthe greatest female rapper of all time. It sparked multiple debates within the hip hop industry, many of whom criticized the publications and artists featured in the premier positions.\n",
      "Section baru: Background\n",
      "Menambahkan ke section 'Background': Billboardinitially created a list of the 10 greatest rappers of all time in November 2015, with the top position held byThe Notorious B.I.G.[1]The publication revised their rankings in 2023, via a partnership withVibe, to celebrate the 50th anniversary ofhip hop. The updated list, published in stages between January 11 and February 8, 2023, expanded their reach to include the top 50 rappers of all time, instead of 10. The rankings were based on the votes of ten journalists who were a part ofBillboardandVibe'seditorial boards, and was led by Datwon Thomas, theeditor-in-chiefofVibe. To \"keep [the] pool of nominees a little more focused,\" the journalists chose to excludedancehallandreggaetonartists and only center on rappers based inNorth America, regardless of merit.[2]\n",
      "Menambahkan ke section 'Background': The editorial boards then ranked the qualifying rappers based on the following criteria:[2]\n",
      "List ditemukan di section 'Background'\n",
      "Menambahkan ke section 'Background': Acknowledging that lists tend to \"draw their share of criticism and praise from industry pundits and the public alike,\" the rankings were heavily discussed and deliberated amongst the editorial boards in order to rationalize a \"well-thought-out, authentic, list that reflects hip hop's foundational pioneers, evolutionary trailblazers, and contemporary mainstays.\"[2]\n",
      "Section baru: Top 10 rappers\n",
      "Menambahkan ke section 'Top 10 rappers': 2023 list\n",
      "Tabel ditemukan dalam section 'Top 10 rappers'\n",
      "Menambahkan ke section 'Top 10 rappers': 2015 list\n",
      "Tabel ditemukan dalam section 'Top 10 rappers'\n",
      "List ditemukan di section 'Top 10 rappers'\n",
      "Section baru: Reception\n",
      "Menambahkan ke section 'Reception': Curtis Roberts ofWe Got This Coveredbelieved that it was a mistake ofBillboardandVibeto create the \"head-scratching\" list due to the publications prioritizing a rapper's popularity over their content. He highlightedBillboard's reputation as \"the go-to domestic hit-ranking metric in the industry\" and the updated rules to theiralbumsandsongs chartsas a case of the magazine's allegedfavoritismtowards certain artists.[3]Roberts also disagreed withJay-Z's placement as the greatest rapper of all time, arguing that he deserved to be ranked amongst the most popular rappers instead.[3]Ice Cube, who was ranked the 18th greatest rapper, called the list \"irrelevant\" and compared the rankings to \"assholes: everybody got one and they all stink.\" He further denouncedBillboardand their lack of hip hop knowledge, saying: \"Billboardain't hip hop, so their opinion don't matter. So who gives a fuck?\" Ice Cube was not concerned with his placement, but criticizedBillboardandVibefor their exclusion ofToo Short, citing it as an undeserved snub.[4]Ja Rule, who was also omitted from the list, responded to the list via social media, writing: \"There ain't 50 rappers dead, alive or waiting to be born better than me. [...] Congrats to everyone on the list, but check my résumé.\"[5]Charlamagne tha Godfelt that it was too early forKendrick LamarandDraketo be mentioned among the greatest of all time.[6]\n",
      "Menambahkan ke section 'Reception': Missy Elliott, who was ranked the 19th greatest rapper, shared her thoughts on the list during an interview withBillboard, saying: \"Sometimes, even if you think you’re great, you still look around and see so many icons and legends in this list, and you’re just humbled to be a part of that list. And to be in the top 20 when talking about that many people. I am blessed. I am thankful, and yeah, it feels good.\"[7]Lamar approved of his placement via his guest appearance on the standalone version ofBeyoncé's \"America Has a Problem\", with the lines: \"Billboard, they know / After HOV, rightfully so\".[8]Lil Wayneargued that he should have topped the rankings, speaking withZane LoweforApple Music 1: \"I will tell you that I am a motherfucking one. Everybody whose names you named, they also know I’m number one. Go ask ’em. They know what it is.\"[9]\n",
      "Menambahkan ke section 'Reception': During an interview withThe Art of Dialogue,Melle Mel, who was ranked the 48th greatest rapper of all time, commendedEminemand Lamar as capable rappers, but questioned their influence onhip hop culture.[10]He further argued that Eminem is only considered to be amongst the best because he iswhite, and that Lamar's music does not resonate with vital aspects of contemporary hip hop.[10][11]Additional criticism was aimed towardsNicki Minaj's placement andLil Wayne's artistry.[12]Melle Mel's remarks polarized the hip hop industry.Fat Joe,Kevin Gates, and50 Centcriticized his comments about Eminem,[13]whileChuck Doffered an explanation for his critiques.[14]Citing his longevity as a prime example, he compared Melle Mel to basketball playerWilt Chamberlainand how he would often criticize newer generations of players.[14]Agreeing with Melle Mel, psychologistUmar Johnsonaccused Eminem of upholdingwhite supremacyby usurping Black rappers from consideration.[15][16]\n",
      "Menambahkan ke section 'Reception': Following accusations of beingracist, Melle Mel defended his comments via his podcast,Hip Hop Center. He argued that he does not have any animosity towards his peers, but his comments were stemmed fromBillboardandVibe's rankings. He criticized the publications for creating the list due to their lack of notability in hip hop, adding that \"they’re known for records. So obviously,Billboardis more leaning toward guys that made records, compared to guys like myself that put in all the time in hip hop.\"[17]He called it \"almost impossible\" for him to be racist, and used Eminem's songs where he acknowledged hiswhite privilegeto justify his remarks. \"If he basically said what I said, we said very similar things, how could what he say not be racist but then what I said was racist? In other words, if he’s right for saying what he’s saying, then the only reason that I could be wrong is that I’mblackand I said it.\"[17][18]During his guest appearance onEz Mil's single \"Realest\", EminemdissedMelle Mel and claimed that his race works against him in the hip hop industry.[19][20]\n",
      "Menambahkan ke section 'Reception': Much of the criticism surroundingBillboard's 2015 list was centered around the exclusion ofTupac Shakur.[21]Many journalists also believed that including Lamar on the list was premature, and that the writers involved with the rankings showed favoritism instead of following a specific metric.[22]Snoop Doggfound the list to be disrespectful, whilethe Gamecreated his own version after sharing his own vitriol.[23][24]Tygadescribed the list as dated and argued that Drake andJ. Coleshould have been included.[25]Ghostface Killah, who was ranked the eighth-greatest, was appreciative of his placement.[26]\n",
      "Section baru: References\n",
      "List ditemukan di section 'References'\n",
      "Sections ditemukan: ['Introduction', 'Background', 'Top 10 rappers', 'Reception', 'References']\n",
      "Konten artikel berdasarkan section telah disimpan ke dalam file 'wikipedia_article_sections.csv'\n",
      "2 tabel telah disimpan ke dalam file 'wikipedia_tables_table_X.csv'\n",
      "List telah disimpan ke dalam file 'wikipedia_lists.csv'\n"
     ]
    },
    {
     "name": "stderr",
     "output_type": "stream",
     "text": [
      "C:\\Users\\ACER\\AppData\\Local\\Temp\\ipykernel_10448\\3714677182.py:79: FutureWarning: Passing literal html to 'read_html' is deprecated and will be removed in a future version. To read from a literal string, wrap it in a 'StringIO' object.\n",
      "  tables = pd.read_html(html_content)\n"
     ]
    }
   ],
   "source": []
  }
 ],
 "metadata": {
  "kernelspec": {
   "display_name": "tutorial-fastapi",
   "language": "python",
   "name": "python3"
  },
  "language_info": {
   "codemirror_mode": {
    "name": "ipython",
    "version": 3
   },
   "file_extension": ".py",
   "mimetype": "text/x-python",
   "name": "python",
   "nbconvert_exporter": "python",
   "pygments_lexer": "ipython3",
   "version": "3.10.15"
  }
 },
 "nbformat": 4,
 "nbformat_minor": 2
}
